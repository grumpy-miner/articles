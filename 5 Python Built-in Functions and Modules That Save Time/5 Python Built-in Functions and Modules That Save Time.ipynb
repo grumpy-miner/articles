{
 "cells": [
  {
   "cell_type": "markdown",
   "id": "78c875b0",
   "metadata": {},
   "source": [
    "### Shelve\n",
    "https://docs.python.org/3/library/shelve.html#module-shelve\n",
    "\n",
    "`shelve` is a simple persistent storage option for Python objects, acting like a dictionary but stored on disk."
   ]
  },
  {
   "cell_type": "code",
   "execution_count": 1,
   "id": "329d68cb",
   "metadata": {},
   "outputs": [],
   "source": [
    "import shelve\n",
    "import requests\n",
    "\n",
    "# Fetching data from an API and storing it using shelve\n",
    "response = requests.get('https://example.com')\n",
    "\n",
    "with shelve.open('myTest.db') as db:\n",
    "    db['example_response'] = response\n",
    "\n",
    "# Later access the data without needing to fetch it again\n",
    "with shelve.open('myTest.db') as db:\n",
    "    stored_response = db['example_response']"
   ]
  },
  {
   "cell_type": "markdown",
   "id": "abfd4d71",
   "metadata": {},
   "source": [
    "-----------\n",
    "### Partial\n",
    "https://docs.python.org/3/library/functools.html#functools.partial\n",
    "\n",
    "`functools.partial` allows you to fix a certain number of arguments of a function and returns partial object that behaves like a function."
   ]
  },
  {
   "cell_type": "code",
   "execution_count": 2,
   "id": "533b6bd5",
   "metadata": {
    "scrolled": true
   },
   "outputs": [
    {
     "name": "stdout",
     "output_type": "stream",
     "text": [
      "List of continents: \n",
      "{'data': {'continents': [{'name': 'Africa'}, {'name': 'Antarctica'}, {'name': 'Asia'}, {'name': 'Europe'}, {'name': 'North America'}, {'name': 'Oceania'}, {'name': 'South America'}]}}\n",
      "\n",
      "AWS region of Poland: \n",
      "{'data': {'country': {'name': 'Poland', 'awsRegion': 'eu-north-1'}}}\n"
     ]
    }
   ],
   "source": [
    "from functools import partial\n",
    "\n",
    "from requests import Session\n",
    "\n",
    "# Create session\n",
    "session = Session()\n",
    "\n",
    "graphql_url = 'https://countries.trevorblades.com/'\n",
    "\n",
    "# creates function `post` that is calling session.post with url=graphql_url everytime\n",
    "post = partial(session.post, url=graphql_url)\n",
    "\n",
    "body = \"\"\"\n",
    "query {\n",
    "    continents{\n",
    "        name\n",
    "    }\n",
    "}\n",
    "\"\"\"\n",
    "\n",
    "resp = post(json={\"query\": body})\n",
    "print(\"List of continents: \", resp.json(), sep=\"\\n\", end=\"\\n\\n\")\n",
    "\n",
    "body = \"\"\"\n",
    "query {\n",
    "  country (code: \"PL\") {\n",
    "    name,\n",
    "    awsRegion\n",
    "  }\n",
    "}\n",
    "\"\"\"\n",
    "\n",
    "resp = post(json={\"query\": body})\n",
    "print(\"AWS region of Poland: \", resp.json(), sep=\"\\n\")"
   ]
  },
  {
   "cell_type": "markdown",
   "id": "2347d699",
   "metadata": {},
   "source": [
    "-------------\n",
    "### Batched\n",
    "https://docs.python.org/3/library/itertools.html#itertools.batched\n",
    "\n",
    "`itertools.batched` simplifies the task of dividing iterables into batches of a specified size, offering a convenient solution for efficient batch processing."
   ]
  },
  {
   "cell_type": "code",
   "execution_count": 3,
   "id": "33b92281",
   "metadata": {},
   "outputs": [
    {
     "name": "stdout",
     "output_type": "stream",
     "text": [
      "Number of elements in list: 20000 | batch size: 400 | max workers: 50 | times repeated: 10\n",
      "One thread per item ran 10 times: 5.642835833015852 seconds\n",
      "One thread per 400 items ran 10 times: 5.082546915975399 seconds\n"
     ]
    }
   ],
   "source": [
    "try:\n",
    "    # for python3.12\n",
    "    from itertools import batched\n",
    "except ImportError:\n",
    "    # for older versions.\n",
    "    # you need to install package with `pip install more_itertools`\n",
    "    from more_itertools import batched\n",
    "\n",
    "from concurrent.futures import ThreadPoolExecutor\n",
    "from time import sleep, time\n",
    "from timeit import Timer\n",
    "\n",
    "DATA = [1] * 20000\n",
    "MAX_WORKERS = 50\n",
    "BATCH_SIZE = 400\n",
    "SLEEP_TIME = 0.001\n",
    "TIMEIT_REPEAT = 10\n",
    "\n",
    "def simulate_io_operation(*args, **kwargs):\n",
    "    sleep(SLEEP_TIME)\n",
    "\n",
    "def process_data(item):\n",
    "    simulate_io_operation(item)\n",
    "\n",
    "def process_data_in_batch(items):\n",
    "    for item in items:\n",
    "        simulate_io_operation(item)\n",
    "\n",
    "\n",
    "def test_single():\n",
    "    with ThreadPoolExecutor(max_workers=MAX_WORKERS) as executor:\n",
    "        results = executor.map(process_data, DATA)\n",
    "\n",
    "\n",
    "def test_batch():\n",
    "    with ThreadPoolExecutor(max_workers=MAX_WORKERS) as executor:\n",
    "        results = executor.map(process_data_in_batch, batched(DATA, BATCH_SIZE))\n",
    "        \n",
    "print(\n",
    "    f\"Number of elements in list: {len(DATA)} | \"\n",
    "    f\"batch size: {BATCH_SIZE} | \"\n",
    "    f\"max workers: {MAX_WORKERS} | \"\n",
    "    f\"times repeated: {TIMEIT_REPEAT}\"\n",
    ")\n",
    "\n",
    "time_of_single = Timer(test_single).timeit(TIMEIT_REPEAT)\n",
    "print(f\"One thread per item ran {TIMEIT_REPEAT} times: {time_of_single} seconds\")\n",
    "\n",
    "time_of_batch = Timer(test_batch).timeit(TIMEIT_REPEAT)\n",
    "print(f\"One thread per {BATCH_SIZE} items ran {TIMEIT_REPEAT} times: {time_of_batch} seconds\")"
   ]
  },
  {
   "cell_type": "markdown",
   "id": "693234c6",
   "metadata": {},
   "source": [
    "-------------------\n",
    "### Single Dispatch\n",
    "https://docs.python.org/3/library/functools.html#functools.singledispatch\n",
    "\n",
    "`functools.singledispatch` enables you to create generic functions that behave differently based on the type of their first argument.\n",
    "\n"
   ]
  },
  {
   "cell_type": "code",
   "execution_count": 4,
   "id": "91e9da33",
   "metadata": {},
   "outputs": [
    {
     "name": "stdout",
     "output_type": "stream",
     "text": [
      "20\n",
      "HELLO\n",
      "NotImplementedError error caught: Unsupported type\n"
     ]
    }
   ],
   "source": [
    "from functools import singledispatch\n",
    "\n",
    "@singledispatch\n",
    "def process(value):\n",
    "    raise NotImplementedError(\"Unsupported type\")\n",
    "\n",
    "@process.register\n",
    "def _(value: int):\n",
    "    return value + 10\n",
    "\n",
    "@process.register\n",
    "def _(value: str):\n",
    "    return value.upper()\n",
    "\n",
    "# Usage\n",
    "print(process(10))  # Output: 20\n",
    "\n",
    "print(process('hello'))  # Output: 'HELLO'\n",
    "\n",
    "try:\n",
    "    process(['lama'])\n",
    "except NotImplementedError as err:\n",
    "    print(f\"NotImplementedError error caught: {err}\")"
   ]
  },
  {
   "cell_type": "markdown",
   "id": "0c6fd6b2",
   "metadata": {},
   "source": [
    "------------\n",
    "### Closing\n",
    "https://docs.python.org/3/library/contextlib.html#contextlib.closing\n",
    "\n",
    "`contextlib.closing` serves as a utility to ensure that resources are properly released after their use is complete."
   ]
  },
  {
   "cell_type": "code",
   "execution_count": 5,
   "id": "477dfbae",
   "metadata": {},
   "outputs": [
    {
     "name": "stdout",
     "output_type": "stream",
     "text": [
      "[('HELLO WORLD',)]\n"
     ]
    }
   ],
   "source": [
    "import sqlite3\n",
    "from contextlib import closing\n",
    "\n",
    "with sqlite3.connect('myOtherTest') as connection:\n",
    "    with closing(connection.cursor()) as cursor:\n",
    "        cursor.execute(\"SELECT 'HELLO WORLD'\")\n",
    "        print(cursor.fetchall())\n",
    "\n"
   ]
  }
 ],
 "metadata": {
  "kernelspec": {
   "display_name": "Python 3 (ipykernel)",
   "language": "python",
   "name": "python3"
  },
  "language_info": {
   "codemirror_mode": {
    "name": "ipython",
    "version": 3
   },
   "file_extension": ".py",
   "mimetype": "text/x-python",
   "name": "python",
   "nbconvert_exporter": "python",
   "pygments_lexer": "ipython3",
   "version": "3.11.8"
  }
 },
 "nbformat": 4,
 "nbformat_minor": 5
}
